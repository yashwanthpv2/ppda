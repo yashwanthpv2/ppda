{
  "nbformat": 4,
  "nbformat_minor": 0,
  "metadata": {
    "colab": {
      "provenance": []
    },
    "kernelspec": {
      "name": "python3",
      "display_name": "Python 3"
    },
    "language_info": {
      "name": "python"
    }
  },
  "cells": [
    {
      "cell_type": "code",
      "execution_count": null,
      "metadata": {
        "colab": {
          "base_uri": "https://localhost:8080/"
        },
        "id": "UNrRQt7Jdm8l",
        "outputId": "ba5653ea-8e30-474f-acf8-412baa9ee7f8"
      },
      "outputs": [
        {
          "output_type": "stream",
          "name": "stdout",
          "text": [
            "Enter a number: 6\n",
            "Multiplication of 6: \n",
            "6 X 1 = 6\n",
            "6 X 2 = 12\n",
            "6 X 3 = 18\n",
            "6 X 4 = 24\n",
            "6 X 5 = 30\n",
            "6 X 6 = 36\n",
            "6 X 7 = 42\n",
            "6 X 8 = 48\n",
            "6 X 9 = 54\n",
            "6 X 10 = 60\n"
          ]
        }
      ],
      "source": [
        "num=int(input(\"Enter a number: \"))\n",
        "print(f\"Multiplication of {num}: \")\n",
        "for i in range(1,11):\n",
        "    print(f\"{num} X {i} = {num*i}\")"
      ]
    },
    {
      "cell_type": "code",
      "source": [
        "n=10\n",
        "for i in range(1,n+1):\n",
        "  print(\" \"*(n - i)+\"*\"*(2*i-1))"
      ],
      "metadata": {
        "colab": {
          "base_uri": "https://localhost:8080/"
        },
        "id": "1O27PkH0d2Ud",
        "outputId": "4e7fe0bc-c11e-4116-b049-6395ab333cba"
      },
      "execution_count": null,
      "outputs": [
        {
          "output_type": "stream",
          "name": "stdout",
          "text": [
            "         *\n",
            "        ***\n",
            "       *****\n",
            "      *******\n",
            "     *********\n",
            "    ***********\n",
            "   *************\n",
            "  ***************\n",
            " *****************\n",
            "*******************\n"
          ]
        }
      ]
    },
    {
      "cell_type": "code",
      "source": [
        "rows = int(input(\"Enter the number of rows : \"))\n",
        "for i in range(1,rows + 1):\n",
        "  print(\" \"*{rows-i}+\" \".join(str(num) for num in range(1,i+1)))"
      ],
      "metadata": {
        "id": "-cBrp-ciiCED"
      },
      "execution_count": null,
      "outputs": []
    }
  ]
}